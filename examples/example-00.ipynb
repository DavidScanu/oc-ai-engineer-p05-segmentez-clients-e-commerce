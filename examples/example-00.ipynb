{
 "cells": [
  {
   "cell_type": "markdown",
   "metadata": {},
   "source": [
    "# A Basic Python Example for RFM Segmentation"
   ]
  },
  {
   "cell_type": "code",
   "execution_count": 1,
   "metadata": {},
   "outputs": [
    {
     "name": "stdout",
     "output_type": "stream",
     "text": [
      "Sample Customer Data:\n",
      "   CustomerID  Recency  Frequency  Monetary\n",
      "0           1       52         13       394\n",
      "1           2       93          9       412\n",
      "2           3       15         15       647\n",
      "3           4       72         13       139\n",
      "4           5       61          1        62\n",
      "\n",
      "Cluster Assignments:\n",
      "   CustomerID  Recency  Frequency  Monetary  Cluster\n",
      "0           1       52         13       394        2\n",
      "1           2       93          9       412        2\n",
      "2           3       15         15       647        0\n",
      "3           4       72         13       139        2\n",
      "4           5       61          1        62        2\n",
      "\n",
      "Cluster Centroids (scaled features):\n",
      "[[-1.32304009 -0.07656092 -0.08532492]\n",
      " [ 0.75699333 -1.03082496  0.70439495]\n",
      " [ 0.43420388  0.11282661 -1.02828861]\n",
      " [ 0.36825765  1.07185282  0.88705335]]\n",
      "\n",
      "New Data with Cluster Assignments:\n",
      "   CustomerID  Recency  Frequency  Monetary  Cluster\n",
      "0         101       15          5       150        0\n",
      "1         102       80          3       600        1\n"
     ]
    }
   ],
   "source": [
    "import pandas as pd\n",
    "import numpy as np\n",
    "from sklearn.cluster import KMeans\n",
    "from sklearn.preprocessing import StandardScaler\n",
    "import matplotlib.pyplot as plt\n",
    "\n",
    "# -------------------------------\n",
    "# Step 1: Create Sample Customer Data\n",
    "# -------------------------------\n",
    "np.random.seed(42)  # For reproducible data generation\n",
    "\n",
    "# Create a DataFrame with customer IDs and RFM values\n",
    "data = pd.DataFrame({\n",
    "    'CustomerID': np.arange(1, 101),\n",
    "    'Recency': np.random.randint(1, 100, size=100),       # Days since last purchase\n",
    "    'Frequency': np.random.randint(1, 20, size=100),        # Number of purchases\n",
    "    'Monetary': np.random.randint(10, 1000, size=100)       # Amount spent\n",
    "})\n",
    "\n",
    "print(\"Sample Customer Data:\")\n",
    "print(data.head())\n",
    "\n",
    "# -------------------------------\n",
    "# Step 2: Preprocess the Data (Standardization)\n",
    "# -------------------------------\n",
    "features = ['Recency', 'Frequency', 'Monetary']\n",
    "scaler = StandardScaler()\n",
    "X_scaled = scaler.fit_transform(data[features])\n",
    "\n",
    "# -------------------------------\n",
    "# Step 3: Apply k-means Clustering\n",
    "# -------------------------------\n",
    "# We choose k = 4 clusters for this example.\n",
    "# Setting random_state ensures that the initialization is the same each time.\n",
    "k = 4\n",
    "kmeans = KMeans(n_clusters=k, random_state=42, n_init=10)\n",
    "data['Cluster'] = kmeans.fit_predict(X_scaled)\n",
    "\n",
    "print(\"\\nCluster Assignments:\")\n",
    "print(data.head())\n",
    "\n",
    "# Optionally, display cluster centroids (in the scaled space)\n",
    "centroids = kmeans.cluster_centers_\n",
    "print(\"\\nCluster Centroids (scaled features):\")\n",
    "print(centroids)\n",
    "\n",
    "# -------------------------------\n",
    "# Step 4: (Later) Assign New Customers to Existing Clusters\n",
    "# -------------------------------\n",
    "# Suppose you get new customer data in the same RFM format:\n",
    "new_data = pd.DataFrame({\n",
    "    'CustomerID': [101, 102],\n",
    "    'Recency': [15, 80],\n",
    "    'Frequency': [5, 3],\n",
    "    'Monetary': [150, 600]\n",
    "})\n",
    "\n",
    "# IMPORTANT: Use the same scaler to transform new data!\n",
    "X_new_scaled = scaler.transform(new_data[features])\n",
    "\n",
    "# Use the trained k-means model to predict cluster labels for new customers.\n",
    "new_data['Cluster'] = kmeans.predict(X_new_scaled)\n",
    "print(\"\\nNew Data with Cluster Assignments:\")\n",
    "print(new_data)\n"
   ]
  }
 ],
 "metadata": {
  "kernelspec": {
   "display_name": ".venv",
   "language": "python",
   "name": "python3"
  },
  "language_info": {
   "codemirror_mode": {
    "name": "ipython",
    "version": 3
   },
   "file_extension": ".py",
   "mimetype": "text/x-python",
   "name": "python",
   "nbconvert_exporter": "python",
   "pygments_lexer": "ipython3",
   "version": "3.10.12"
  }
 },
 "nbformat": 4,
 "nbformat_minor": 2
}
